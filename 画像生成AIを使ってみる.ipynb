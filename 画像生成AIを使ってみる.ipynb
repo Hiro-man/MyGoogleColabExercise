{
  "nbformat": 4,
  "nbformat_minor": 0,
  "metadata": {
    "colab": {
      "provenance": [],
      "gpuType": "T4",
      "authorship_tag": "ABX9TyM9tzbl9+fyGcyO0VFZ6y9P",
      "include_colab_link": true
    },
    "kernelspec": {
      "name": "python3",
      "display_name": "Python 3"
    },
    "language_info": {
      "name": "python"
    },
    "accelerator": "GPU",
    "gpuClass": "standard"
  },
  "cells": [
    {
      "cell_type": "markdown",
      "metadata": {
        "id": "view-in-github",
        "colab_type": "text"
      },
      "source": [
        "<a href=\"https://colab.research.google.com/github/Hiro-man/MyGoogleColabExercise/blob/main/%E7%94%BB%E5%83%8F%E7%94%9F%E6%88%90AI%E3%82%92%E4%BD%BF%E3%81%A3%E3%81%A6%E3%81%BF%E3%82%8B.ipynb\" target=\"_parent\"><img src=\"https://colab.research.google.com/assets/colab-badge.svg\" alt=\"Open In Colab\"/></a>"
      ]
    },
    {
      "cell_type": "markdown",
      "source": [
        "# Stable Diffusiton(Diffusers)で画像生成してみる\n",
        "\n",
        "## 参考\n",
        "* [世界に衝撃を与えた画像生成AI「Stable Diffusion」を徹底解説！ - Qiita](https://qiita.com/omiita/items/ecf8d60466c50ae8295b)\n",
        "* [無料の画像生成AI「Stable Diffusion」の使い方！初心者向けのコツを全部教えます | くろくまそふと](https://kurokumasoft.com/2022/12/20/howto-install-stable-diffusion/)\n",
        "* [【Stable Diffusion】safetensorsをDiffusersで読み込む  |  ジコログ](https://self-development.info/%E3%80%90stable-diffusion%E3%80%91safetensors%E3%82%92diffusers%E3%81%A7%E8%AA%AD%E3%81%BF%E8%BE%BC%E3%82%80/)<br>\n",
        "→関連：[Stable Diffusion checkpointとDiffusersモデルの相互変換スクリプト（SD2.0対応）｜Kohya S.｜note](https://note.com/kohya_ss/n/n374f316fe4ad)\n",
        "* [【Stable Diffusion】ChilloutMixの利用方法  |  ジコログ](https://self-development.info/%e3%80%90stable-diffusion%e3%80%91chilloutmix%e3%81%ae%e5%88%a9%e7%94%a8%e6%96%b9%e6%b3%95/)\n",
        "* [【AIグラビア】ChilloutMixの次はBRAが来るかも  |  ジコログ](https://self-development.info/%e3%80%90ai%e3%82%b0%e3%83%a9%e3%83%93%e3%82%a2%e3%80%91chilloutmix%e3%81%ae%e6%ac%a1%e3%81%afbra%e3%81%8c%e6%9d%a5%e3%82%8b%e3%81%8b%e3%82%82/)\n",
        "* [diffusersでschedulerを変える方法](https://zenn.dev/kaibaoke/articles/art7_change_diffusers_scheduler)\n",
        "* [Stable Diffusionを自在に操る！パラメータの使い方を解説 ｜ Pythonでの実装方法 | Murasan Lab](https://murasan-net.com/index.php/2023/02/07/stable-diffusion-parameter/)\n",
        "\n",
        "### Tools\n",
        "* [GitHub - huggingface/diffusers: 🤗 Diffusers: State-of-the-art diffusion models for image and audio generation in PyTorch](https://github.com/huggingface/diffusers)\n",
        "<br>←[GitHub - CompVis/stable-diffusion: A latent text-to-image diffusion model](https://github.com/CompVis/stable-diffusion)\n",
        "* [GitHub - huggingface/safetensors: Simple, safe way to store and distribute tensors](https://github.com/huggingface/safetensors)\n",
        "* [GitHub - bmaltais/kohya_ss](https://github.com/bmaltais/kohya_ss)\n",
        "\n",
        "### Model\n",
        "* [Civital](https://civitai.com/)\n",
        "* [Stable Diffusion お気に入りのモデル20種類とLoRAを4種類 - FOXISM](https://foxism.jp/2023/04/stable-diffusion-model-lora/)\n",
        "* [【Stable Diffusion】JapaneseDollLikeness（LoRA）の使い方。遂に日本の美少女AIコスプレイヤーを召喚できるぞ！](https://yuuyuublog.org/japanesedolllikeness/)\n",
        "\n",
        "### 参考（その他）\n",
        "* [Linux/ファイル内の文字列を置換 - Takuya Miyashita](https://www.hydrocoast.jp/index.php?Linux/%E3%83%95%E3%82%A1%E3%82%A4%E3%83%AB%E5%86%85%E3%81%AE%E6%96%87%E5%AD%97%E5%88%97%E3%82%92%E7%BD%AE%E6%8F%9B)"
      ],
      "metadata": {
        "id": "-bEuLDHwFxu4"
      }
    },
    {
      "cell_type": "code",
      "source": [
        "# Stable Diffusionを実行するためのPythonツールのインストール\n",
        "!pip install --upgrade git+https://github.com/huggingface/diffusers.git transformers accelerate scipy torch\n",
        "!pip install safetensors"
      ],
      "metadata": {
        "id": "P_GTyqB_vCO8"
      },
      "execution_count": null,
      "outputs": []
    },
    {
      "cell_type": "code",
      "source": [
        "# safetensors -> diffusersのモデルに変換するためのツールのダウンロードと準備\n",
        "!git clone https://github.com/huggingface/diffusers.git\n",
        "!git clone https://github.com/bmaltais/kohya_ss.git\n",
        "!cp kohya_ss/tools/convert_diffusers20_original_sd.py diffusers/scripts/convert_diffusers20_original_sd.py\n",
        "# convert_diffusers20_original_sd.py の \"import library.model_util as model_util\" -> \"import model_util\"　に変換する\n",
        "!sed -i -e \"s/library.model_util/model_util\\#/\" diffusers/scripts/convert_diffusers20_original_sd.py\n",
        "!cp kohya_ss/library/model_util.py diffusers/scripts/model_util.py\n",
        "#%cd diffusers/scripts\n",
        "#!python convert_diffusers20_original_sd.py -h\n",
        "#%cd ../../"
      ],
      "metadata": {
        "id": "7hHSNmeX07s1"
      },
      "execution_count": null,
      "outputs": []
    },
    {
      "cell_type": "markdown",
      "source": [
        "ベースとなるモデル\n",
        "\n",
        "* ChilloutMix（チルアウトミックス）<- リアル系モデルで有名なモデル：https://civitai.com/api/download/models/11745\n",
        "\n",
        "マージモデル\n",
        "* [kisaragi_mix（アジア系モデル）](https://civitai.com/models/45757/kisaragimix)：https://civitai.com/api/download/models/63416"
      ],
      "metadata": {
        "id": "jw7l_x4OdYdx"
      }
    },
    {
      "cell_type": "code",
      "source": [
        "# ChilloutMixを使用する\n",
        "!wget https://civitai.com/api/download/models/11745  -O  chilloutmix.safetensors"
      ],
      "metadata": {
        "id": "AHcwJkqZ7H1c"
      },
      "execution_count": null,
      "outputs": []
    },
    {
      "cell_type": "code",
      "source": [
        "# safetensorsをdiffusersのモデルに変換する\n",
        "!mkdir model\n",
        "!python diffusers/scripts/convert_diffusers20_original_sd.py chilloutmix.safetensors  model/chilloutmix  --v1 --reference_model runwayml/stable-diffusion-v1-5"
      ],
      "metadata": {
        "id": "ODi0ozje72C1"
      },
      "execution_count": null,
      "outputs": []
    },
    {
      "cell_type": "code",
      "source": [
        "from diffusers import StableDiffusionPipeline, EulerDiscreteScheduler\n",
        "import torch"
      ],
      "metadata": {
        "id": "TmvyLSEp-2ln"
      },
      "execution_count": null,
      "outputs": []
    },
    {
      "cell_type": "code",
      "source": [
        "MODEL_ID = \"./model/chilloutmix\"\n",
        "DEVICE = \"cuda\"\n",
        " \n",
        "pipe = StableDiffusionPipeline.from_pretrained(MODEL_ID, torch_dtype=torch.float16)\n",
        "pipe = pipe.to(DEVICE)"
      ],
      "metadata": {
        "id": "bX92b-mY--u0"
      },
      "execution_count": null,
      "outputs": []
    },
    {
      "cell_type": "code",
      "source": [
        "prompt = input(\"input prompt:\")\n",
        "negative_prompt = input(\"input negative prompt:\")\n",
        "image = pipe(\n",
        "    prompt = prompt,\n",
        "    negative_prompt = negative_prompt,\n",
        "    width = 512,\n",
        "    height = 512\n",
        "    ).images[0]\n",
        "image"
      ],
      "metadata": {
        "id": "E56AxALpDVwB"
      },
      "execution_count": null,
      "outputs": []
    },
    {
      "cell_type": "markdown",
      "source": [
        "# LoRA（Civitalで配布されている）を使用した画像生成\n",
        "LoRAは追加学習のためのファイルで、LoRAによって効率的にモデルを作成でき、意図した画像を生成しやすくなります。\n",
        "\n",
        "## 参考\n",
        "* [Stable Diffusionで使えるLoRAとは？導入方法と注意点を解説！](https://freeblog-video.com/stable-diffusion_lora/)\n",
        "* [【初心者向け】Loraの使い方について！！](https://blogcake.net/adding-lora/)\n",
        "* [diffusers で Lora (safetensors) を読み込んで生成する方法 - Qiita](https://qiita.com/Limitex/items/275d91dd4acdbf57b5f4)\n",
        "* [[GUIDE] Use, create, and post LoRA. For beginners to intermediate level Japanese guide/LoRAを使う、作る、投稿する。 初心者～中級者向けの 日本語ガイド - v0.8 | Stable Diffusion  Other  | Civitai](https://civitai.com/models/31551/guide-use-create-and-post-lora-for-beginners-to-intermediate-level-japanese-guidelora)\n",
        "* [Stable Diffusion Web UIをGoogle Colab上で動かし、Lora(学習データ)も使ってリアルな画像を生成するメモ｜杉崎｜note](https://note.com/sugisaki13/n/nc6a142de8ff1)\n",
        "* [【Stable Diffusion】LoRAのインストール  |  ジコログ](https://self-development.info/%E3%80%90stable-diffusion%E3%80%91lora%E3%81%AE%E3%82%A4%E3%83%B3%E3%82%B9%E3%83%88%E3%83%BC%E3%83%AB/)\n",
        "\n",
        "### LoRAの作成\n",
        "* [【Stable Diffusion】 LoRAの学習方法 | ぺんぎんや](https://e-penguiner.com/stable-diffusion-training-lora/)\n",
        "* [Google Colab ではじめる LoRA｜npaka｜note](https://note.com/npaka/n/ndb287a48b682)"
      ],
      "metadata": {
        "id": "3qwa92bKO0lV"
      }
    },
    {
      "cell_type": "markdown",
      "source": [
        "* [Japanese Doll Likeness](https://huggingface.co/klx1204/DollLikeness/blob/main/japaneseDollLikeness_v10.safetensors)：https://huggingface.co/klx1204/DollLikeness/resolve/main/japaneseDollLikeness_v10.safetensors"
      ],
      "metadata": {
        "id": "NoTd6pmBjLfN"
      }
    },
    {
      "cell_type": "code",
      "source": [
        "!mkdir lora\n",
        "!mkdir lora_model"
      ],
      "metadata": {
        "id": "zzNVZ1qIOzPt"
      },
      "execution_count": null,
      "outputs": []
    },
    {
      "cell_type": "code",
      "source": [
        "# 使いたいLORAをダウンロード\n",
        "!wget https://civitai.com/api/download/models/11250 -O lora/lora.safetensors"
      ],
      "metadata": {
        "id": "e6ZfRD1tUIh1"
      },
      "execution_count": null,
      "outputs": []
    },
    {
      "cell_type": "code",
      "source": [
        "!python diffusers/scripts/convert_lora_safetensor_to_diffusers.py --base_model_path model/chilloutmix --checkpoint_path lora/lora.safetensors --dump_path lora_model/lora"
      ],
      "metadata": {
        "colab": {
          "base_uri": "https://localhost:8080/"
        },
        "id": "8N9Gb78AUTlT",
        "outputId": "e8393a88-ff43-493f-a918-5fbe995613f7"
      },
      "execution_count": null,
      "outputs": [
        {
          "output_type": "stream",
          "name": "stdout",
          "text": [
            "2023-05-07 07:06:13.685638: W tensorflow/compiler/tf2tensorrt/utils/py_utils.cc:38] TF-TRT Warning: Could not find TensorRT\n"
          ]
        }
      ]
    },
    {
      "cell_type": "code",
      "source": [
        "MODEL_ID = \"./lora_model/lora\"\n",
        "DEVICE = \"cuda\"\n",
        " \n",
        "pipe = StableDiffusionPipeline.from_pretrained(MODEL_ID, torch_dtype=torch.float16)\n",
        "pipe = pipe.to(DEVICE)"
      ],
      "metadata": {
        "id": "D0EnVOlCXLwH"
      },
      "execution_count": null,
      "outputs": []
    },
    {
      "cell_type": "code",
      "source": [
        "prompt = [\n",
        "    \"\"\n",
        "    ]\n",
        "prompt = \", \".join(prompt)\n",
        "# プロンプトはコピペ\n",
        "prompt = \"(photorealistic:1.4) best_quality masterpiece extremely delicate and beautiful extremely detailed CG (face focus) 8k_wallpaper ultra-detailed highres extremely detailed eyes and face beautiful cinematic_lighting 1girl looking_at_viewer (red_sweater_vest) (ahoge) green_skirt red_hair star_hair_ornament smile\"\n",
        "negative_prompt = \"sketches (worst quality:2) (low quality:2) (normal quality:2) lowres normal quality (monochrome) (grayscale) (upper body:2.0) skin spots acnes skin blemishes bad anatomy (long hair:1.4) DeepNegative (fat:1.2) facing away looking away tilted head lowres bad anatomy bad hands text error, missing fingers,extra digit, fewer digits, cropped, worstquality, low quality, normal quality,jpegartifacts,signature, watermark, username,blurry,bad feet,cropped,poorly drawn hands,poorly drawn face,mutation,deformed,worst quality,low quality,normal quality,jpeg artifacts,signature,watermark,extra fingers,fewer digits,extra limbs,extra arms,extra legs,malformed limbs,fused fingers,too many fingers long neck cross-eyed mutated hands polar lowres bad body bad proportions gross proportions text error missing fingers missing arms missing legs extra digit extra arms extra leg extra foot phone blush\"\n",
        "image = pipe(\n",
        "    prompt = prompt,\n",
        "    #negative_prompt = negative_prompt,\n",
        "    width = 512,\n",
        "    height = 512,\n",
        "    num_inference_steps = 500,\n",
        "    # generator = torch.Generator(\"cuda\").manual_seed(8192)#(1024) # seed\n",
        "    ).images[0]\n",
        "image"
      ],
      "metadata": {
        "id": "0Dd4J7YRXb_B"
      },
      "execution_count": null,
      "outputs": []
    }
  ]
}